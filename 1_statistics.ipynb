{
  "nbformat": 4,
  "nbformat_minor": 0,
  "metadata": {
    "colab": {
      "provenance": [],
      "machine_shape": "hm",
      "include_colab_link": true
    },
    "kernelspec": {
      "name": "python3",
      "display_name": "Python 3"
    },
    "language_info": {
      "name": "python"
    }
  },
  "cells": [
    {
      "cell_type": "markdown",
      "metadata": {
        "id": "view-in-github",
        "colab_type": "text"
      },
      "source": [
        "<a href=\"https://colab.research.google.com/github/clysdid/BigContest_Advanced_2023/blob/master/0_statistics.ipynb\" target=\"_parent\"><img src=\"https://colab.research.google.com/assets/colab-badge.svg\" alt=\"Open In Colab\"/></a>"
      ]
    },
    {
      "cell_type": "markdown",
      "source": [
        "# Data preprocessing"
      ],
      "metadata": {
        "id": "aB4PFVBEguIz"
      }
    },
    {
      "cell_type": "code",
      "execution_count": null,
      "metadata": {
        "id": "9j30sFzmgsZa"
      },
      "outputs": [],
      "source": [
        "import pandas as pd"
      ]
    },
    {
      "cell_type": "code",
      "source": [
        "df = pd.read_csv(\"/content/drive/MyDrive/예술의전당/after_cluster_data_for_statistic_2.csv\")\n",
        "df.head()"
      ],
      "metadata": {
        "id": "O7CZ4LF8hhc9"
      },
      "execution_count": null,
      "outputs": []
    },
    {
      "cell_type": "code",
      "source": [
        "df = df[['gender','tran_date','tran_time','play_date','play_st_time','ticket_cancel','performance_code','pre_open_date','open_date','genre','running_time','intermission','member_yn','play_weekday','play_weekend','membership_2','membership_1','pre_open_date_Y/N','play-preopen','segment','seg_type','cast_grade','crew_grade','host_grade','produce_grade','seat_count','seat_prefer','cluster','pay']]"
      ],
      "metadata": {
        "id": "dZu4rPd0tXaw"
      },
      "execution_count": null,
      "outputs": []
    },
    {
      "cell_type": "code",
      "source": [
        "df.shape"
      ],
      "metadata": {
        "colab": {
          "base_uri": "https://localhost:8080/"
        },
        "id": "9oK_5wK-hiCU",
        "outputId": "71688362-2041-4e1e-bd40-0cee4a61450c"
      },
      "execution_count": null,
      "outputs": [
        {
          "output_type": "execute_result",
          "data": {
            "text/plain": [
              "(285877, 29)"
            ]
          },
          "metadata": {},
          "execution_count": 73
        }
      ]
    },
    {
      "cell_type": "markdown",
      "source": [
        "# 변수 처리"
      ],
      "metadata": {
        "id": "C37g1yOCYzIT"
      }
    },
    {
      "cell_type": "code",
      "source": [
        "df.columns"
      ],
      "metadata": {
        "id": "dp9qd6Rj4sH8"
      },
      "execution_count": null,
      "outputs": []
    },
    {
      "cell_type": "code",
      "source": [
        "df.isnull().sum()"
      ],
      "metadata": {
        "id": "RH3Dk--w41dE"
      },
      "execution_count": null,
      "outputs": []
    },
    {
      "cell_type": "code",
      "source": [
        "df.gender.fillna('N',inplace=True)"
      ],
      "metadata": {
        "id": "2ryDrl905BGr"
      },
      "execution_count": null,
      "outputs": []
    },
    {
      "cell_type": "code",
      "source": [
        "df.pre_open_date.fillna('N',inplace=True)"
      ],
      "metadata": {
        "id": "f1MzHuFj5HHF"
      },
      "execution_count": null,
      "outputs": []
    },
    {
      "cell_type": "code",
      "source": [
        "df.genre.fillna('클래식',inplace=True)"
      ],
      "metadata": {
        "id": "hK_NhDxd5I85"
      },
      "execution_count": null,
      "outputs": []
    },
    {
      "cell_type": "code",
      "source": [
        "df.membership_2.fillna('N',inplace=True)"
      ],
      "metadata": {
        "id": "SWfDTtok5RJP"
      },
      "execution_count": null,
      "outputs": []
    },
    {
      "cell_type": "code",
      "source": [
        "df['play-preopen'].fillna(0,inplace=True)"
      ],
      "metadata": {
        "id": "uGqJIW135bfJ"
      },
      "execution_count": null,
      "outputs": []
    },
    {
      "cell_type": "code",
      "source": [
        "from datetime import datetime\n",
        "import time"
      ],
      "metadata": {
        "id": "9dqAzaM-5jGe"
      },
      "execution_count": null,
      "outputs": []
    },
    {
      "cell_type": "code",
      "source": [
        "def make_timedelta(date):\n",
        "  try:\n",
        "    return time.mktime(datetime.strptime(date,'%Y-%m-%d').timetuple())\n",
        "  except:\n",
        "    return 0"
      ],
      "metadata": {
        "id": "ESEaregQ7Dg-"
      },
      "execution_count": null,
      "outputs": []
    },
    {
      "cell_type": "code",
      "source": [
        "df.head()"
      ],
      "metadata": {
        "id": "i6grXNRy7NxH"
      },
      "execution_count": null,
      "outputs": []
    },
    {
      "cell_type": "code",
      "source": [
        "df2 = df.copy()"
      ],
      "metadata": {
        "id": "LASmt3Kz7iHM"
      },
      "execution_count": null,
      "outputs": []
    },
    {
      "cell_type": "code",
      "source": [
        "df2['tran_date'] = df2['tran_date'].apply(make_timedelta)"
      ],
      "metadata": {
        "id": "FbJ4i_5L7vHX"
      },
      "execution_count": null,
      "outputs": []
    },
    {
      "cell_type": "code",
      "source": [
        "df2['play_date'] = df2['play_date'].apply(make_timedelta)\n",
        "df2['pre_open_date'] = df2['pre_open_date'].apply(make_timedelta)"
      ],
      "metadata": {
        "id": "nh4g4qom8DuS"
      },
      "execution_count": null,
      "outputs": []
    },
    {
      "cell_type": "code",
      "source": [
        "df2.head()"
      ],
      "metadata": {
        "id": "7XJBTqFY71f8"
      },
      "execution_count": null,
      "outputs": []
    },
    {
      "cell_type": "code",
      "source": [
        "import re"
      ],
      "metadata": {
        "id": "xswlzRSN82_u"
      },
      "execution_count": null,
      "outputs": []
    },
    {
      "cell_type": "code",
      "source": [
        "def to_int(days):\n",
        "  if days != 0:\n",
        "    return int(re.search('\\d+',days).group())\n",
        "  else:\n",
        "    return days\n"
      ],
      "metadata": {
        "id": "0fsZxYLX78fw"
      },
      "execution_count": null,
      "outputs": []
    },
    {
      "cell_type": "code",
      "source": [
        "df2['play-preopen'] = df2['play-preopen'].apply(to_int)"
      ],
      "metadata": {
        "id": "YfqCyuM08uVL"
      },
      "execution_count": null,
      "outputs": []
    },
    {
      "cell_type": "code",
      "source": [
        "df2.tail()"
      ],
      "metadata": {
        "id": "rhZ-hqz18yLO"
      },
      "execution_count": null,
      "outputs": []
    },
    {
      "cell_type": "code",
      "source": [
        "df2.isnull().sum()"
      ],
      "metadata": {
        "id": "s8LgGMSZ81vx"
      },
      "execution_count": null,
      "outputs": []
    },
    {
      "cell_type": "code",
      "source": [
        "gender_dummies = pd.get_dummies(df2.gender,prefix='gender')\n",
        "code_dummies = pd.get_dummies(df2.performance_code,prefix='performance_code')\n",
        "genre_dummies = pd.get_dummies(df2.genre,prefix='genre')\n",
        "weekday_dummies = pd.get_dummies(df2.play_weekday,prefix='play_weekday')\n",
        "membership2_dummies = pd.get_dummies(df2.membership_2,prefix='membership_2')\n",
        "membership1_dummies = pd.get_dummies(df2.membership_1,prefix='membership_1')\n",
        "segment_dummies = pd.get_dummies(df2.segment,prefix='segment')\n",
        "seg_type_dummies = pd.get_dummies(df2.seg_type,prefix='seg_type')\n",
        "cluster_dummies = pd.get_dummies(df2.cluster,prefix='cluster')"
      ],
      "metadata": {
        "id": "g6dKJhvH9Wtl"
      },
      "execution_count": null,
      "outputs": []
    },
    {
      "cell_type": "code",
      "source": [
        "def member_yn_label(yn):\n",
        "  if yn == 'Y':\n",
        "    return 1\n",
        "  else:\n",
        "    return 0\n",
        "\n",
        "def play_weekday_label(day):\n",
        "  if day == '평일':\n",
        "    return 1\n",
        "  else:\n",
        "    return 0"
      ],
      "metadata": {
        "id": "ESWEJDFj-sva"
      },
      "execution_count": null,
      "outputs": []
    },
    {
      "cell_type": "code",
      "source": [
        "df2['member_yn'] = df2['member_yn'].apply(member_yn_label)\n",
        "df2['play_weekend'] = df2['play_weekend'].apply(play_weekday_label)\n",
        "df2['pre_open_date_Y/N'] = df2['pre_open_date_Y/N'].apply(member_yn_label)"
      ],
      "metadata": {
        "id": "Jjkbrl6A-XvZ"
      },
      "execution_count": null,
      "outputs": []
    },
    {
      "cell_type": "code",
      "source": [
        "df3 = pd.concat([df2,gender_dummies,genre_dummies,membership2_dummies,membership1_dummies,segment_dummies,seg_type_dummies,cluster_dummies],axis=1)\n",
        "df3.shape"
      ],
      "metadata": {
        "colab": {
          "base_uri": "https://localhost:8080/"
        },
        "id": "1VmEMGrE-qbC",
        "outputId": "80067f5e-aecd-417c-b363-fcad26efca75"
      },
      "execution_count": null,
      "outputs": [
        {
          "output_type": "execute_result",
          "data": {
            "text/plain": [
              "(285877, 71)"
            ]
          },
          "metadata": {},
          "execution_count": 96
        }
      ]
    },
    {
      "cell_type": "code",
      "source": [
        "df3 = df3.drop(['gender','performance_code','genre','play_weekday','membership_2','membership_1','segment','seg_type','cluster'],axis=1)\n",
        "df3.head()"
      ],
      "metadata": {
        "id": "wJ9PtTOu_C5W"
      },
      "execution_count": null,
      "outputs": []
    },
    {
      "cell_type": "code",
      "source": [
        "x = df3.isnull().sum()\n",
        "x[x>0]"
      ],
      "metadata": {
        "colab": {
          "base_uri": "https://localhost:8080/"
        },
        "id": "Q2ENIXMmTwhL",
        "outputId": "aadf38d6-c306-4f9b-9bd0-3130637e06cd"
      },
      "execution_count": null,
      "outputs": [
        {
          "output_type": "execute_result",
          "data": {
            "text/plain": [
              "Series([], dtype: int64)"
            ]
          },
          "metadata": {},
          "execution_count": 98
        }
      ]
    },
    {
      "cell_type": "markdown",
      "source": [
        "# 통계 분석"
      ],
      "metadata": {
        "id": "iAh2IDSuDGj1"
      }
    },
    {
      "cell_type": "markdown",
      "source": [
        "## 상관 관계 분석"
      ],
      "metadata": {
        "id": "DClJosVmDIc7"
      }
    },
    {
      "cell_type": "code",
      "source": [
        "df3.drop('ticket_cancel',axis=1,inplace=True)"
      ],
      "metadata": {
        "id": "hu41ddv1Zjn0"
      },
      "execution_count": null,
      "outputs": []
    },
    {
      "cell_type": "code",
      "source": [
        "df3.columns"
      ],
      "metadata": {
        "id": "wsEoDrSwZfKH"
      },
      "execution_count": null,
      "outputs": []
    },
    {
      "cell_type": "code",
      "source": [
        "non_cat = ['tran_date','tran_time','play_date','play_st_time','pre_open_date','open_date','running_time','intermission','pay','cast_grade','crew_grade','host_grade','produce_grade','seat_count']"
      ],
      "metadata": {
        "id": "lNGs275UDQuc"
      },
      "execution_count": null,
      "outputs": []
    },
    {
      "cell_type": "code",
      "source": [
        "# Spearman correlation\n",
        "cor = df3[non_cat].corr(method='spearman')\n",
        "cor"
      ],
      "metadata": {
        "id": "PsnIZlp1DoT_"
      },
      "execution_count": null,
      "outputs": []
    },
    {
      "cell_type": "code",
      "source": [
        "import matplotlib.pyplot as plt\n",
        "import seaborn as sns\n",
        "plt.figure(figsize=(8 ,8))  # 히트맵의 크기를 조정합니다.\n",
        "sns.heatmap(cor, annot=True, fmt='.2f')\n",
        "plt.title('Spearman correlation')  # 히트맵 제목 설정\n",
        "plt.show()"
      ],
      "metadata": {
        "colab": {
          "base_uri": "https://localhost:8080/",
          "height": 789
        },
        "id": "D7EbH5IAYVuG",
        "outputId": "5f1b54cd-ae3f-45ad-9d24-fd16744acc19"
      },
      "execution_count": null,
      "outputs": [
        {
          "output_type": "display_data",
          "data": {
            "text/plain": [
              "<Figure size 800x800 with 2 Axes>"
            ],
            "image/png": "[encoded data removed]"
          },
          "metadata": {}
        }
      ]
    },
    {
      "cell_type": "code",
      "source": [
        "weak = []\n",
        "strong = []\n",
        "cor_col = list(cor.columns)\n",
        "for i in range(len(cor)):\n",
        "    for j in range(i+1,len(cor)):\n",
        "        if abs(cor.iloc[i,j]) >= 0.7:\n",
        "            strong.append((cor_col[i],cor_col[j]))\n",
        "        elif abs(cor.iloc[i,j])>=0.3:\n",
        "            weak.append((cor_col[i],cor_col[j]))"
      ],
      "metadata": {
        "id": "Hd5asONQDqZf"
      },
      "execution_count": null,
      "outputs": []
    },
    {
      "cell_type": "code",
      "source": [
        "# 약한 상관관계를 가지는 경우\n",
        "print(weak)"
      ],
      "metadata": {
        "id": "oLuOM-l4DsN6"
      },
      "execution_count": null,
      "outputs": []
    },
    {
      "cell_type": "code",
      "source": [
        "# 강한 상관관계를 가지는 경우\n",
        "print(strong)"
      ],
      "metadata": {
        "id": "Qxsuh0kjDtba"
      },
      "execution_count": null,
      "outputs": []
    },
    {
      "cell_type": "markdown",
      "source": [
        "- ['tran_date','open_date','crew_grade','host_grade','produce_grade'] 제거"
      ],
      "metadata": {
        "id": "61KXZZYHD27R"
      }
    },
    {
      "cell_type": "code",
      "source": [
        "df3.drop(['tran_date','open_date','crew_grade','host_grade','produce_grade'],inplace=True,axis=1)"
      ],
      "metadata": {
        "id": "0qzYQosmENjN"
      },
      "execution_count": null,
      "outputs": []
    },
    {
      "cell_type": "code",
      "source": [
        "col = list(df3.columns)\n",
        "# 종속형 변수\n",
        "cat = [c for c in col if c not in non_cat]"
      ],
      "metadata": {
        "id": "RbQfQzhsGiXR"
      },
      "execution_count": null,
      "outputs": []
    },
    {
      "cell_type": "code",
      "source": [
        "non_cat = ['tran_time','play_date','play_st_time','pre_open_date','running_time','intermission','pay','cast_grade','seat_count']"
      ],
      "metadata": {
        "id": "yz4kO9NoG43t"
      },
      "execution_count": null,
      "outputs": []
    },
    {
      "cell_type": "code",
      "source": [
        "from tqdm import tqdm\n",
        "from scipy.stats import chi2_contingency\n",
        "import numpy as np\n",
        "import warnings\n",
        "warnings.filterwarnings( 'ignore' )\n",
        "\n",
        "# 크래머 V계수를 저장할 딕셔너리 초기화\n",
        "cramer_v_dict = {}\n",
        "categorical_columns = df3[cat]\n",
        "continAndOrdinal_columns = df3[non_cat]\n",
        "\n",
        "# 두 명목변수 간의 크래머 V계수 계산 및 저장\n",
        "for i in tqdm(range(len(categorical_columns.columns))):\n",
        "    for j in range(len(continAndOrdinal_columns.columns)):\n",
        "        cross_tab = pd.crosstab(categorical_columns.iloc[:, i], continAndOrdinal_columns.iloc[:, j])\n",
        "        chi2, _, _, _ = chi2_contingency(cross_tab)\n",
        "        n = cross_tab.sum().sum()\n",
        "        k, r = cross_tab.shape\n",
        "        v = np.sqrt(chi2 / (n * min(k - 1, r - 1)))\n",
        "        cramer_v_dict[(categorical_columns.columns[i], continAndOrdinal_columns.columns[j])] = v\n",
        "\n",
        "# 크래머 V계수 출력\n",
        "for key, value in cramer_v_dict.items():\n",
        "    print(f\"Cramer's V between '{key[0]}' and '{key[1]}': {value}\")"
      ],
      "metadata": {
        "id": "VT2-KFnsGqKq"
      },
      "execution_count": null,
      "outputs": []
    },
    {
      "cell_type": "code",
      "source": [
        "for key, value in cramer_v_dict.items():\n",
        "    if value >= 0.6:\n",
        "        print(f\"Cramer's V between '{key[0]}' and '{key[1]}': {value}\")"
      ],
      "metadata": {
        "id": "67T4k5mKG0Np"
      },
      "execution_count": null,
      "outputs": []
    },
    {
      "cell_type": "code",
      "source": [
        "remove = ['play_st_time','play_date','pre_open_date']"
      ],
      "metadata": {
        "id": "MutFTGfjOoHz"
      },
      "execution_count": null,
      "outputs": []
    },
    {
      "cell_type": "code",
      "source": [
        "df4 = df3.drop(remove,axis=1)\n",
        "df4.shape"
      ],
      "metadata": {
        "colab": {
          "base_uri": "https://localhost:8080/"
        },
        "id": "WT3W-4Y_Scw5",
        "outputId": "aa0f3c3b-59d4-459b-f64d-5ab38bd1a70a"
      },
      "execution_count": null,
      "outputs": [
        {
          "output_type": "execute_result",
          "data": {
            "text/plain": [
              "(285877, 53)"
            ]
          },
          "metadata": {},
          "execution_count": 113
        }
      ]
    },
    {
      "cell_type": "code",
      "source": [
        "df4.columns"
      ],
      "metadata": {
        "id": "5PouY_Q9SqkJ"
      },
      "execution_count": null,
      "outputs": []
    },
    {
      "cell_type": "code",
      "source": [
        "cat = ['member_yn','gender_F', 'gender_M', 'gender_N','seat_prefer',\n",
        "       'genre_가족극', 'genre_교향곡', 'genre_기타', 'genre_독주', 'genre_복합장르',\n",
        "       'genre_성악', 'genre_실내악', 'genre_오페라', 'genre_재즈', 'genre_콘서트',\n",
        "       'genre_크로스오버', 'genre_클래식', 'genre_합창', 'membership_2_N',\n",
        "       'membership_2_경로', 'membership_2_공연예매권', 'membership_2_문화누리',\n",
        "       'membership_2_장애및보훈', 'membership_2_학생', 'membership_2_후원회원',\n",
        "       'membership_1_골드', 'membership_1_그린', 'membership_1_노블',\n",
        "       'membership_1_블루', 'membership_1_비회원', 'membership_1_싹틔우미',\n",
        "       'membership_1_일반', 'segment_멤버십소지자', 'segment_문화향유소외계층', 'segment_찐VIP',\n",
        "       'segment_취향형성자', 'segment_할인혜택고객', 'seg_type_1', 'seg_type_2',\n",
        "       'cluster_0', 'cluster_1', 'cluster_2', 'cluster_3', 'cluster_4']"
      ],
      "metadata": {
        "id": "sn_ZGx85Soi1"
      },
      "execution_count": null,
      "outputs": []
    },
    {
      "cell_type": "code",
      "source": [
        "# 크래머 V계수를 저장할 딕셔너리 초기화\n",
        "cramer_v_dict = {}\n",
        "categorical_columns = df4[cat]\n",
        "\n",
        "# 두 명목변수 간의 크래머 V계수 계산 및 저장\n",
        "for i in tqdm(range(len(categorical_columns.columns))):\n",
        "    for j in range(i+1, len(categorical_columns.columns)):\n",
        "        cross_tab = pd.crosstab(categorical_columns.iloc[:, i], categorical_columns.iloc[:, j])\n",
        "        chi2, _, _, _ = chi2_contingency(cross_tab)\n",
        "        n = cross_tab.sum().sum()\n",
        "        k, r = cross_tab.shape\n",
        "        v = np.sqrt(chi2 / (n * min(k - 1, r - 1)))\n",
        "        cramer_v_dict[(categorical_columns.columns[i], categorical_columns.columns[j])] = v\n",
        "\n",
        "# 크래머 V계수 출력\n",
        "for key, value in cramer_v_dict.items():\n",
        "    print(f\"Cramer's V between '{key[0]}' and '{key[1]}': {value}\")"
      ],
      "metadata": {
        "id": "kvYc2j2mjaQH"
      },
      "execution_count": null,
      "outputs": []
    },
    {
      "cell_type": "code",
      "source": [
        "for key, value in cramer_v_dict.items():\n",
        "    if value >= 0.6:\n",
        "        print(f\"Cramer's V between '{key[0]}' and '{key[1]}': {value}\")"
      ],
      "metadata": {
        "id": "XGVN66PSk3QO"
      },
      "execution_count": null,
      "outputs": []
    },
    {
      "cell_type": "code",
      "source": [
        "df4.drop(['gender_N' ,'membership_1_비회원','gender_M','membership_1_싹틔우미','membership_1_골드','membership_1_그린','membership_1_블루','membership_1_일반','seg_type_1'],axis=1,inplace=True)"
      ],
      "metadata": {
        "id": "H1ev4wpJS4_4"
      },
      "execution_count": null,
      "outputs": []
    },
    {
      "cell_type": "markdown",
      "source": [
        "## OLS"
      ],
      "metadata": {
        "id": "V2AW9JHeF7Pk"
      }
    },
    {
      "cell_type": "code",
      "source": [
        "import statsmodels.api as sm"
      ],
      "metadata": {
        "id": "fsZiBWuTAfhm"
      },
      "execution_count": null,
      "outputs": []
    },
    {
      "cell_type": "code",
      "source": [
        "df4.columns"
      ],
      "metadata": {
        "id": "GnWZUjm1iCV2"
      },
      "execution_count": null,
      "outputs": []
    },
    {
      "cell_type": "code",
      "source": [
        "x = df4.copy()\n",
        "x = x.drop(['pay'],axis=1)"
      ],
      "metadata": {
        "id": "SAJSeTWVNSJg"
      },
      "execution_count": null,
      "outputs": []
    },
    {
      "cell_type": "code",
      "source": [
        "x = sm.add_constant(x)\n",
        "x.head()"
      ],
      "metadata": {
        "id": "YQwRr-8WNaDP"
      },
      "execution_count": null,
      "outputs": []
    },
    {
      "cell_type": "code",
      "source": [
        "y = df4.pay.values\n",
        "y[:5]"
      ],
      "metadata": {
        "colab": {
          "base_uri": "https://localhost:8080/"
        },
        "id": "Yc8v7mPGNjoq",
        "outputId": "2317d5e6-9fb7-4f30-a75f-306f84aa1376"
      },
      "execution_count": null,
      "outputs": [
        {
          "output_type": "execute_result",
          "data": {
            "text/plain": [
              "array([180000,  75000,  30000, 130000,  60000])"
            ]
          },
          "metadata": {},
          "execution_count": 123
        }
      ]
    },
    {
      "cell_type": "code",
      "source": [
        "model = sm.OLS(y, x)\n",
        "result = model.fit()\n",
        "print(result.summary())"
      ],
      "metadata": {
        "id": "eIDs-gsONtuF"
      },
      "execution_count": null,
      "outputs": []
    },
    {
      "cell_type": "code",
      "source": [
        "x = df4.copy()\n",
        "x = x.drop(['pay','member_yn','play_weekend','seat_prefer','genre_가족극','membership_1_노블'],axis=1)"
      ],
      "metadata": {
        "id": "EEoZ5FHrPld-"
      },
      "execution_count": null,
      "outputs": []
    },
    {
      "cell_type": "code",
      "source": [
        "x = sm.add_constant(x)\n",
        "x.head()"
      ],
      "metadata": {
        "id": "iRoxYX-CPld-"
      },
      "execution_count": null,
      "outputs": []
    },
    {
      "cell_type": "code",
      "source": [
        "y = df4.pay.values\n",
        "y[:5]"
      ],
      "metadata": {
        "colab": {
          "base_uri": "https://localhost:8080/"
        },
        "outputId": "d8cdbcf0-d756-4108-8ebc-2eb536c990a1",
        "id": "NgzIs7P6Pld-"
      },
      "execution_count": null,
      "outputs": [
        {
          "output_type": "execute_result",
          "data": {
            "text/plain": [
              "array([180000,  75000,  30000, 130000,  60000])"
            ]
          },
          "metadata": {},
          "execution_count": 127
        }
      ]
    },
    {
      "cell_type": "code",
      "source": [
        "model = sm.OLS(y, x)\n",
        "result = model.fit()\n",
        "print(result.summary())"
      ],
      "metadata": {
        "id": "lipdKuOhPld_"
      },
      "execution_count": null,
      "outputs": []
    },
    {
      "cell_type": "code",
      "source": [
        "x = df4.copy()\n",
        "x = x.drop(['pay','member_yn','play_weekend','seat_prefer','genre_가족극','membership_1_노블','genre_교향곡','genre_기타','genre_독주','genre_복합장르', 'genre_성악','genre_실내악','genre_오페라','genre_재즈','genre_콘서트','genre_크로스오버','genre_클래식','genre_합창','membership_2_문화누리'],axis=1)"
      ],
      "metadata": {
        "id": "VZDaNWYCfVbE"
      },
      "execution_count": null,
      "outputs": []
    },
    {
      "cell_type": "code",
      "source": [
        "x = sm.add_constant(x)\n",
        "x.head()"
      ],
      "metadata": {
        "id": "hQWOWdRufpAB"
      },
      "execution_count": null,
      "outputs": []
    },
    {
      "cell_type": "code",
      "source": [
        "y = df4.pay.values\n",
        "y[:5]"
      ],
      "metadata": {
        "colab": {
          "base_uri": "https://localhost:8080/"
        },
        "outputId": "0681c407-be6d-4285-ef06-0ffc4a8aef43",
        "id": "imeY_tQvfZxm"
      },
      "execution_count": null,
      "outputs": [
        {
          "output_type": "execute_result",
          "data": {
            "text/plain": [
              "array([180000,  75000,  30000, 130000,  60000])"
            ]
          },
          "metadata": {},
          "execution_count": 131
        }
      ]
    },
    {
      "cell_type": "code",
      "source": [
        "model = sm.OLS(y, x)\n",
        "result = model.fit()\n",
        "print(result.summary())"
      ],
      "metadata": {
        "id": "28xIdDeafZxm"
      },
      "execution_count": null,
      "outputs": []
    },
    {
      "cell_type": "code",
      "source": [
        "x = df4.copy()\n",
        "x = x.drop(['pay','member_yn','play_weekend','seat_prefer','genre_가족극','membership_1_노블','genre_교향곡','genre_기타','genre_독주','genre_복합장르', 'genre_성악','genre_실내악','genre_오페라','genre_재즈','genre_콘서트','genre_크로스오버','genre_클래식','genre_합창','membership_2_문화누리','gender_F'],axis=1)"
      ],
      "metadata": {
        "id": "jh7zpcFpfei0"
      },
      "execution_count": null,
      "outputs": []
    },
    {
      "cell_type": "code",
      "source": [
        "x = sm.add_constant(x)\n",
        "x.head()"
      ],
      "metadata": {
        "id": "ZfU7-FyOfsP9"
      },
      "execution_count": null,
      "outputs": []
    },
    {
      "cell_type": "code",
      "source": [
        "model = sm.OLS(y, x)\n",
        "result = model.fit()\n",
        "print(result.summary())"
      ],
      "metadata": {
        "id": "_1_CMilRfhuU"
      },
      "execution_count": null,
      "outputs": []
    },
    {
      "cell_type": "code",
      "source": [
        "result.params"
      ],
      "metadata": {
        "colab": {
          "base_uri": "https://localhost:8080/"
        },
        "outputId": "80794a79-e78d-4780-e407-51e41448db92",
        "id": "r09bY6mBPld_"
      },
      "execution_count": null,
      "outputs": [
        {
          "output_type": "execute_result",
          "data": {
            "text/plain": [
              "const                 146826.936774\n",
              "tran_time                 -0.788246\n",
              "running_time              18.412522\n",
              "intermission            -153.229570\n",
              "pre_open_date_Y/N       3381.399472\n",
              "play-preopen              50.561042\n",
              "cast_grade            -50817.418427\n",
              "seat_count                 6.974076\n",
              "membership_2_N         23076.730296\n",
              "membership_2_경로        19192.070869\n",
              "membership_2_공연예매권     24088.104542\n",
              "membership_2_장애및보훈     24476.455406\n",
              "membership_2_학생        18039.689649\n",
              "membership_2_후원회원      51232.792206\n",
              "segment_멤버십소지자         28447.140046\n",
              "segment_문화향유소외계층       29539.588880\n",
              "segment_찐VIP           32019.554096\n",
              "segment_취향형성자          29021.755299\n",
              "segment_할인혜택고객         27798.898453\n",
              "seg_type_2              1726.493534\n",
              "cluster_0              30181.769532\n",
              "cluster_1              31633.371887\n",
              "cluster_2              28841.940990\n",
              "cluster_3              29371.897839\n",
              "cluster_4              26797.956526\n",
              "dtype: float64"
            ]
          },
          "metadata": {},
          "execution_count": 136
        }
      ]
    },
    {
      "cell_type": "code",
      "source": [
        "result.params.sort_values(ascending=False,key=lambda x:abs(x))"
      ],
      "metadata": {
        "id": "SBoWUb6lTp58",
        "outputId": "85e69d75-6fb4-401b-e284-de2603326a08",
        "colab": {
          "base_uri": "https://localhost:8080/"
        }
      },
      "execution_count": null,
      "outputs": [
        {
          "output_type": "execute_result",
          "data": {
            "text/plain": [
              "const                 146826.936774\n",
              "membership_2_후원회원      51232.792206\n",
              "cast_grade            -50817.418427\n",
              "segment_찐VIP           32019.554096\n",
              "cluster_1              31633.371887\n",
              "cluster_0              30181.769532\n",
              "segment_문화향유소외계층       29539.588880\n",
              "cluster_3              29371.897839\n",
              "segment_취향형성자          29021.755299\n",
              "cluster_2              28841.940990\n",
              "segment_멤버십소지자         28447.140046\n",
              "segment_할인혜택고객         27798.898453\n",
              "cluster_4              26797.956526\n",
              "membership_2_장애및보훈     24476.455406\n",
              "membership_2_공연예매권     24088.104542\n",
              "membership_2_N         23076.730296\n",
              "membership_2_경로        19192.070869\n",
              "membership_2_학생        18039.689649\n",
              "pre_open_date_Y/N       3381.399472\n",
              "seg_type_2              1726.493534\n",
              "intermission            -153.229570\n",
              "play-preopen              50.561042\n",
              "running_time              18.412522\n",
              "seat_count                 6.974076\n",
              "tran_time                 -0.788246\n",
              "dtype: float64"
            ]
          },
          "metadata": {},
          "execution_count": 137
        }
      ]
    },
    {
      "cell_type": "code",
      "source": [
        "df5= df4.drop(['member_yn','play_weekend','seat_prefer','genre_가족극','membership_1_노블','genre_교향곡','genre_기타','genre_독주','genre_복합장르', 'genre_성악','genre_실내악','genre_오페라','genre_재즈','genre_콘서트','genre_크로스오버','genre_클래식','genre_합창','membership_2_문화누리','gender_F'],axis=1)"
      ],
      "metadata": {
        "id": "z1yBU7BKrvJ1"
      },
      "execution_count": null,
      "outputs": []
    },
    {
      "cell_type": "code",
      "source": [
        "df5.to_csv('/content/drive/MyDrive/예술의전당/통계분석후데이터(코로나제거).csv')"
      ],
      "metadata": {
        "id": "jbeaUekYNvEN"
      },
      "execution_count": null,
      "outputs": []
    },
    {
      "cell_type": "markdown",
      "source": [
        "# XGBoost"
      ],
      "metadata": {
        "id": "f0E2BKKJq8nj"
      }
    },
    {
      "cell_type": "code",
      "source": [
        "df = pd.read_csv(\"/content/drive/MyDrive/예술의전당/after_cluster_data_for_statistic.csv\")\n",
        "df.head()"
      ],
      "metadata": {
        "id": "CuGhSDQxgkFI"
      },
      "execution_count": null,
      "outputs": []
    },
    {
      "cell_type": "code",
      "source": [
        "df = df[['gender','tran_date','tran_time','play_date','seat','play_st_time','ticket_cancel','performance_code','pre_open_date','open_date','genre','running_time','intermission','member_yn','play_weekday','play_weekend','membership_2','membership_1','pre_open_date_Y/N','play-preopen','segment','seg_type','cast_grade','crew_grade','host_grade','produce_grade','seat_count','seat_prefer','cluster','pay']]"
      ],
      "metadata": {
        "id": "kZGiMo73gkFO"
      },
      "execution_count": null,
      "outputs": []
    },
    {
      "cell_type": "code",
      "source": [
        "df.shape"
      ],
      "metadata": {
        "colab": {
          "base_uri": "https://localhost:8080/"
        },
        "outputId": "2d9e46b0-020b-4ff1-e21e-8ff4931cb1f0",
        "id": "hb4Hjj5KgkFP"
      },
      "execution_count": null,
      "outputs": [
        {
          "output_type": "execute_result",
          "data": {
            "text/plain": [
              "(285877, 30)"
            ]
          },
          "metadata": {},
          "execution_count": 142
        }
      ]
    },
    {
      "cell_type": "markdown",
      "source": [
        "# 변수 처리"
      ],
      "metadata": {
        "id": "JvVGIg3MgkFP"
      }
    },
    {
      "cell_type": "code",
      "source": [
        "df.columns"
      ],
      "metadata": {
        "id": "SR5ZR2M2gkFP"
      },
      "execution_count": null,
      "outputs": []
    },
    {
      "cell_type": "code",
      "source": [
        "df.isnull().sum()"
      ],
      "metadata": {
        "id": "W84ji9nNgkFP"
      },
      "execution_count": null,
      "outputs": []
    },
    {
      "cell_type": "code",
      "source": [
        "df.gender.fillna('N',inplace=True)"
      ],
      "metadata": {
        "id": "DmtZ7kx9gkFP"
      },
      "execution_count": null,
      "outputs": []
    },
    {
      "cell_type": "code",
      "source": [
        "df.pre_open_date.fillna('N',inplace=True)"
      ],
      "metadata": {
        "id": "YbeFzcobgkFP"
      },
      "execution_count": null,
      "outputs": []
    },
    {
      "cell_type": "code",
      "source": [
        "df.genre.fillna('클래식',inplace=True)"
      ],
      "metadata": {
        "id": "X3fNcbqfgkFQ"
      },
      "execution_count": null,
      "outputs": []
    },
    {
      "cell_type": "code",
      "source": [
        "df.membership_2.fillna('N',inplace=True)"
      ],
      "metadata": {
        "id": "1ABcQeY1gkFQ"
      },
      "execution_count": null,
      "outputs": []
    },
    {
      "cell_type": "code",
      "source": [
        "df['play-preopen'].fillna(0,inplace=True)"
      ],
      "metadata": {
        "id": "-UecLV-SgkFQ"
      },
      "execution_count": null,
      "outputs": []
    },
    {
      "cell_type": "code",
      "source": [
        "from datetime import datetime\n",
        "import time"
      ],
      "metadata": {
        "id": "yr58Etm4gkFQ"
      },
      "execution_count": null,
      "outputs": []
    },
    {
      "cell_type": "code",
      "source": [
        "def make_timedelta(date):\n",
        "  try:\n",
        "    return time.mktime(datetime.strptime(date,'%Y-%m-%d').timetuple())\n",
        "  except:\n",
        "    return 0"
      ],
      "metadata": {
        "id": "wkIvrOysgkFQ"
      },
      "execution_count": null,
      "outputs": []
    },
    {
      "cell_type": "code",
      "source": [
        "df.head()"
      ],
      "metadata": {
        "id": "svuFyFajgkFQ"
      },
      "execution_count": null,
      "outputs": []
    },
    {
      "cell_type": "code",
      "source": [
        "df2 = df.copy()"
      ],
      "metadata": {
        "id": "_b4sdDyGgkFQ"
      },
      "execution_count": null,
      "outputs": []
    },
    {
      "cell_type": "code",
      "source": [
        "df2['tran_date'] = df2['tran_date'].apply(make_timedelta)"
      ],
      "metadata": {
        "id": "LW4jSy91gkFQ"
      },
      "execution_count": null,
      "outputs": []
    },
    {
      "cell_type": "code",
      "source": [
        "df2['play_date'] = df2['play_date'].apply(make_timedelta)\n",
        "df2['pre_open_date'] = df2['pre_open_date'].apply(make_timedelta)"
      ],
      "metadata": {
        "id": "q45q3MxGgkFQ"
      },
      "execution_count": null,
      "outputs": []
    },
    {
      "cell_type": "code",
      "source": [
        "df2.head()"
      ],
      "metadata": {
        "id": "SQzLSxKPgkFR"
      },
      "execution_count": null,
      "outputs": []
    },
    {
      "cell_type": "code",
      "source": [
        "import re"
      ],
      "metadata": {
        "id": "tHC-lEM5gkFR"
      },
      "execution_count": null,
      "outputs": []
    },
    {
      "cell_type": "code",
      "source": [
        "def to_int(days):\n",
        "  if days != 0:\n",
        "    return int(re.search('\\d+',days).group())\n",
        "  else:\n",
        "    return days\n"
      ],
      "metadata": {
        "id": "iuMpl4uzgkFR"
      },
      "execution_count": null,
      "outputs": []
    },
    {
      "cell_type": "code",
      "source": [
        "df2['play-preopen'] = df2['play-preopen'].apply(to_int)"
      ],
      "metadata": {
        "id": "t59XcA3ygkFR"
      },
      "execution_count": null,
      "outputs": []
    },
    {
      "cell_type": "code",
      "source": [
        "from sklearn.preprocessing import LabelEncoder"
      ],
      "metadata": {
        "id": "WCwXApL4rANk"
      },
      "execution_count": null,
      "outputs": []
    },
    {
      "cell_type": "code",
      "source": [
        "le_gender = LabelEncoder()\n",
        "gender_label = le_gender.fit_transform(df2['gender'])\n",
        "\n",
        "le_code = LabelEncoder()\n",
        "code_label = le_code.fit_transform(df2['performance_code'])\n",
        "\n",
        "le_seat = LabelEncoder()\n",
        "seat_label = le_seat.fit_transform(df2['seat'])\n",
        "\n",
        "le_genre = LabelEncoder()\n",
        "genre_label = le_genre.fit_transform(df2['genre'])\n",
        "\n",
        "le_weekday = LabelEncoder()\n",
        "weekday_label = le_weekday.fit_transform(df2['play_weekday'])\n",
        "\n",
        "le_membership2 = LabelEncoder()\n",
        "membership2_label = le_membership2.fit_transform(df2['membership_2'])\n",
        "\n",
        "le_membership1 = LabelEncoder()\n",
        "membership1_label = le_membership1.fit_transform(df2['membership_1'])\n",
        "\n",
        "le_segment = LabelEncoder()\n",
        "segment_label = le_segment.fit_transform(df2['segment'])\n",
        "\n",
        "le_seg_type = LabelEncoder()\n",
        "seg_type_label = le_seg_type.fit_transform(df2['seg_type'])\n",
        "\n",
        "le_member_yn = LabelEncoder()\n",
        "member_yn_label = le_member_yn.fit_transform(df2['member_yn'])\n",
        "\n",
        "le_weekend = LabelEncoder()\n",
        "weekend_label = le_weekend.fit_transform(df2['play_weekend'])\n",
        "\n",
        "le_pre_open_date_yn = LabelEncoder()\n",
        "pre_open_date_yn_label = le_pre_open_date_yn.fit_transform(df2['pre_open_date_Y/N'])\n",
        "\n",
        "le_cluster = LabelEncoder()\n",
        "cluster_label = le_cluster.fit_transform(df2['cluster'])"
      ],
      "metadata": {
        "id": "ckobCoHKCX2c"
      },
      "execution_count": null,
      "outputs": []
    },
    {
      "cell_type": "code",
      "source": [
        "print('le_gender : ',le_gender.classes_)\n",
        "print('le_code : ',le_code.classes_)\n",
        "print('')\n",
        "print('le_genre : ',le_genre.classes_)\n",
        "print('le_weekday : ',le_weekday.classes_)\n",
        "print('le_membership2 : ',le_membership2.classes_)\n",
        "print('le_membership1 : ',le_membership1.classes_)\n",
        "print('le_segment : ',le_segment.classes_)\n",
        "print('le_seg_type : ',le_seg_type.classes_)\n",
        "print('le_member_yn : ',le_member_yn.classes_)\n",
        "print('le_weekend : ',le_weekend.classes_)\n",
        "print('le_pre_open_date_yn : ',le_pre_open_date_yn.classes_)\n",
        "print('le_pre_open_date_yn : ',le_cluster.classes_)"
      ],
      "metadata": {
        "id": "75pZ-F0noYsg"
      },
      "execution_count": null,
      "outputs": []
    },
    {
      "cell_type": "code",
      "source": [
        "le_seat.classes_[:100]"
      ],
      "metadata": {
        "id": "Di-KIEnilp8H"
      },
      "execution_count": null,
      "outputs": []
    },
    {
      "cell_type": "code",
      "source": [
        "df2['gender_label'] = gender_label\n",
        "df2['code_label'] = code_label\n",
        "df2['seat_label'] = seat_label\n",
        "df2['genre_label'] = genre_label\n",
        "df2['weekday_label'] = weekday_label\n",
        "df2['membership2_label'] = membership2_label\n",
        "df2['membership1_label'] = membership1_label\n",
        "df2['segment_label'] = segment_label\n",
        "df2['seg_type_label'] = seg_type_label\n",
        "df2['member_yn_label'] = member_yn_label\n",
        "df2['weekend_label'] = weekend_label\n",
        "df2['pre_open_date_yn_label'] = pre_open_date_yn_label\n",
        "df2['cluster_label'] = cluster_label"
      ],
      "metadata": {
        "id": "sQwwhntfrFSd"
      },
      "execution_count": null,
      "outputs": []
    },
    {
      "cell_type": "code",
      "source": [
        "df2 = df2.drop(['gender','seat','performance_code','genre','play_weekday','membership_2','membership_1','segment','seg_type','member_yn','play_weekend','pre_open_date_Y/N','cluster'],axis=1)\n",
        "df2.head()"
      ],
      "metadata": {
        "id": "vBwLJ70FrTik"
      },
      "execution_count": null,
      "outputs": []
    },
    {
      "cell_type": "code",
      "source": [
        "df2.columns"
      ],
      "metadata": {
        "id": "_m8geeiIg-P9"
      },
      "execution_count": null,
      "outputs": []
    },
    {
      "cell_type": "code",
      "source": [
        "df2.drop(['ticket_cancel'],axis=1,inplace=True)"
      ],
      "metadata": {
        "id": "iM6zAgGrsODx"
      },
      "execution_count": null,
      "outputs": []
    },
    {
      "cell_type": "code",
      "source": [
        "df2.to_csv('/content/drive/MyDrive/예술의전당/XGBoost.csv')"
      ],
      "metadata": {
        "id": "0RxWAUSgrX33"
      },
      "execution_count": null,
      "outputs": []
    },
    {
      "cell_type": "code",
      "source": [],
      "metadata": {
        "id": "6myvkFuasfCw"
      },
      "execution_count": null,
      "outputs": []
    }
  ]
}
